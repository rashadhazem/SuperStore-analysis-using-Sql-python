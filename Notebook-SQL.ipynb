{
    "metadata": {
        "kernelspec": {
            "name": "SQL",
            "display_name": "SQL",
            "language": "sql"
        },
        "language_info": {
            "name": "sql",
            "version": ""
        }
    },
    "nbformat_minor": 2,
    "nbformat": 4,
    "cells": [
        {
            "cell_type": "code",
            "source": [
                "--Total Sales\r\n",
                "SELECT SUM(Sales) AS TotalSales FROM SuperStore.dbo.Store"
            ],
            "metadata": {
                "azdata_cell_guid": "f94f56e3-1e87-4613-88ff-134aefd6a659",
                "language": "sql"
            },
            "outputs": [
                {
                    "output_type": "display_data",
                    "data": {
                        "text/html": "(1 row affected)"
                    },
                    "metadata": {}
                },
                {
                    "output_type": "display_data",
                    "data": {
                        "text/html": "Total execution time: 00:00:00.120"
                    },
                    "metadata": {}
                },
                {
                    "output_type": "execute_result",
                    "metadata": {},
                    "execution_count": 3,
                    "data": {
                        "application/vnd.dataresource+json": {
                            "schema": {
                                "fields": [
                                    {
                                        "name": "TotalSales"
                                    }
                                ]
                            },
                            "data": [
                                {
                                    "TotalSales": "2297200.860299955"
                                }
                            ]
                        },
                        "text/html": [
                            "<table>",
                            "<tr><th>TotalSales</th></tr>",
                            "<tr><td>2297200.860299955</td></tr>",
                            "</table>"
                        ]
                    }
                }
            ],
            "execution_count": 3
        },
        {
            "cell_type": "code",
            "source": [
                "--Total Profit\r\n",
                "SELECT SUM(Profit) AS TotalProfit FROM SuperStore.dbo.Store;\r\n",
                " "
            ],
            "metadata": {
                "language": "sql",
                "azdata_cell_guid": "577b3268-536b-4c6a-bc86-a7a1cac8d870",
                "tags": []
            },
            "outputs": [
                {
                    "output_type": "display_data",
                    "data": {
                        "text/html": "(1 row affected)"
                    },
                    "metadata": {}
                },
                {
                    "output_type": "display_data",
                    "data": {
                        "text/html": "Total execution time: 00:00:00.068"
                    },
                    "metadata": {}
                },
                {
                    "output_type": "execute_result",
                    "metadata": {},
                    "execution_count": 5,
                    "data": {
                        "application/vnd.dataresource+json": {
                            "schema": {
                                "fields": [
                                    {
                                        "name": "TotalProfit"
                                    }
                                ]
                            },
                            "data": [
                                {
                                    "TotalProfit": "286397.02170000126"
                                }
                            ]
                        },
                        "text/html": [
                            "<table>",
                            "<tr><th>TotalProfit</th></tr>",
                            "<tr><td>286397.02170000126</td></tr>",
                            "</table>"
                        ]
                    }
                }
            ],
            "execution_count": 5
        },
        {
            "cell_type": "code",
            "source": [
                "--Sales by Year\r\n",
                "SELECT YEAR([Order Date]) AS OrderYear, SUM(Sales) AS Sales\r\n",
                "FROM SuperStore.dbo.Store\r\n",
                "GROUP BY YEAR([Order Date])\r\n",
                "ORDER BY OrderYear;\r\n",
                "\r\n",
                ""
            ],
            "metadata": {
                "language": "sql",
                "azdata_cell_guid": "e9781a73-6c8d-4f36-9ed1-3172a9ce1c00"
            },
            "outputs": [
                {
                    "output_type": "display_data",
                    "data": {
                        "text/html": "(4 rows affected)"
                    },
                    "metadata": {}
                },
                {
                    "output_type": "display_data",
                    "data": {
                        "text/html": "Total execution time: 00:00:00.152"
                    },
                    "metadata": {}
                },
                {
                    "output_type": "execute_result",
                    "metadata": {},
                    "execution_count": 6,
                    "data": {
                        "application/vnd.dataresource+json": {
                            "schema": {
                                "fields": [
                                    {
                                        "name": "OrderYear"
                                    },
                                    {
                                        "name": "Sales"
                                    }
                                ]
                            },
                            "data": [
                                {
                                    "OrderYear": "2018",
                                    "Sales": "484247.4981000008"
                                },
                                {
                                    "OrderYear": "2019",
                                    "Sales": "470532.50899999985"
                                },
                                {
                                    "OrderYear": "2020",
                                    "Sales": "609205.5980000009"
                                },
                                {
                                    "OrderYear": "2021",
                                    "Sales": "733215.2552000007"
                                }
                            ]
                        },
                        "text/html": [
                            "<table>",
                            "<tr><th>OrderYear</th><th>Sales</th></tr>",
                            "<tr><td>2018</td><td>484247.4981000008</td></tr>",
                            "<tr><td>2019</td><td>470532.50899999985</td></tr>",
                            "<tr><td>2020</td><td>609205.5980000009</td></tr>",
                            "<tr><td>2021</td><td>733215.2552000007</td></tr>",
                            "</table>"
                        ]
                    }
                }
            ],
            "execution_count": 6
        },
        {
            "cell_type": "code",
            "source": [
                "--Profit by Year\r\n",
                "SELECT YEAR([Order Date]) AS OrderYear, SUM(Profit) AS Profit\r\n",
                "FROM SuperStore.dbo.Store\r\n",
                "GROUP BY YEAR([Order Date])\r\n",
                "ORDER BY OrderYear;\r\n",
                ""
            ],
            "metadata": {
                "language": "sql",
                "azdata_cell_guid": "301dc159-0de8-4e35-996a-8058fd40a2f1",
                "tags": []
            },
            "outputs": [
                {
                    "output_type": "display_data",
                    "data": {
                        "text/html": "(4 rows affected)"
                    },
                    "metadata": {}
                },
                {
                    "output_type": "display_data",
                    "data": {
                        "text/html": "Total execution time: 00:00:00.170"
                    },
                    "metadata": {}
                },
                {
                    "output_type": "execute_result",
                    "metadata": {},
                    "execution_count": 34,
                    "data": {
                        "application/vnd.dataresource+json": {
                            "schema": {
                                "fields": [
                                    {
                                        "name": "OrderYear"
                                    },
                                    {
                                        "name": "Profit"
                                    }
                                ]
                            },
                            "data": [
                                {
                                    "OrderYear": "2018",
                                    "Profit": "49543.97410000001"
                                },
                                {
                                    "OrderYear": "2019",
                                    "Profit": "61618.60370000008"
                                },
                                {
                                    "OrderYear": "2020",
                                    "Profit": "81795.17430000016"
                                },
                                {
                                    "OrderYear": "2021",
                                    "Profit": "93439.26960000003"
                                }
                            ]
                        },
                        "text/html": [
                            "<table>",
                            "<tr><th>OrderYear</th><th>Profit</th></tr>",
                            "<tr><td>2018</td><td>49543.97410000001</td></tr>",
                            "<tr><td>2019</td><td>61618.60370000008</td></tr>",
                            "<tr><td>2020</td><td>81795.17430000016</td></tr>",
                            "<tr><td>2021</td><td>93439.26960000003</td></tr>",
                            "</table>"
                        ]
                    }
                }
            ],
            "execution_count": 34
        },
        {
            "cell_type": "code",
            "source": [
                "--Sales by Region\r\n",
                "SELECT Region, SUM(Sales) AS Sales\r\n",
                "FROM SuperStore.dbo.Store\r\n",
                "GROUP BY Region\r\n",
                "ORDER BY Sales DESC;"
            ],
            "metadata": {
                "language": "sql",
                "azdata_cell_guid": "8a321fbc-aa3d-400f-bf3c-a1539a2f5875"
            },
            "outputs": [
                {
                    "output_type": "display_data",
                    "data": {
                        "text/html": "(4 rows affected)"
                    },
                    "metadata": {}
                },
                {
                    "output_type": "display_data",
                    "data": {
                        "text/html": "Total execution time: 00:00:00.235"
                    },
                    "metadata": {}
                },
                {
                    "output_type": "execute_result",
                    "metadata": {},
                    "execution_count": 7,
                    "data": {
                        "application/vnd.dataresource+json": {
                            "schema": {
                                "fields": [
                                    {
                                        "name": "Region"
                                    },
                                    {
                                        "name": "Sales"
                                    }
                                ]
                            },
                            "data": [
                                {
                                    "Region": "West",
                                    "Sales": "725457.8245000005"
                                },
                                {
                                    "Region": "East",
                                    "Sales": "678781.239999998"
                                },
                                {
                                    "Region": "Central",
                                    "Sales": "501239.89080000046"
                                },
                                {
                                    "Region": "South",
                                    "Sales": "391721.9050000002"
                                }
                            ]
                        },
                        "text/html": [
                            "<table>",
                            "<tr><th>Region</th><th>Sales</th></tr>",
                            "<tr><td>West</td><td>725457.8245000005</td></tr>",
                            "<tr><td>East</td><td>678781.239999998</td></tr>",
                            "<tr><td>Central</td><td>501239.89080000046</td></tr>",
                            "<tr><td>South</td><td>391721.9050000002</td></tr>",
                            "</table>"
                        ]
                    }
                }
            ],
            "execution_count": 7
        },
        {
            "cell_type": "code",
            "source": [
                "--Profit by Region\r\n",
                "\r\n",
                "SELECT Region, SUM(Profit) AS Profit\r\n",
                "FROM SuperStore.dbo.Store\r\n",
                "GROUP BY Region\r\n",
                "ORDER BY Profit DESC;"
            ],
            "metadata": {
                "language": "sql",
                "azdata_cell_guid": "c140beb8-1b00-4d61-aaea-84f0c49a623a"
            },
            "outputs": [
                {
                    "output_type": "display_data",
                    "data": {
                        "text/html": "(4 rows affected)"
                    },
                    "metadata": {}
                },
                {
                    "output_type": "display_data",
                    "data": {
                        "text/html": "Total execution time: 00:00:00.151"
                    },
                    "metadata": {}
                },
                {
                    "output_type": "execute_result",
                    "metadata": {},
                    "execution_count": 8,
                    "data": {
                        "application/vnd.dataresource+json": {
                            "schema": {
                                "fields": [
                                    {
                                        "name": "Region"
                                    },
                                    {
                                        "name": "Profit"
                                    }
                                ]
                            },
                            "data": [
                                {
                                    "Region": "West",
                                    "Profit": "108418.4489000001"
                                },
                                {
                                    "Region": "East",
                                    "Profit": "91522.78000000019"
                                },
                                {
                                    "Region": "South",
                                    "Profit": "46749.43030000006"
                                },
                                {
                                    "Region": "Central",
                                    "Profit": "39706.36249999995"
                                }
                            ]
                        },
                        "text/html": [
                            "<table>",
                            "<tr><th>Region</th><th>Profit</th></tr>",
                            "<tr><td>West</td><td>108418.4489000001</td></tr>",
                            "<tr><td>East</td><td>91522.78000000019</td></tr>",
                            "<tr><td>South</td><td>46749.43030000006</td></tr>",
                            "<tr><td>Central</td><td>39706.36249999995</td></tr>",
                            "</table>"
                        ]
                    }
                }
            ],
            "execution_count": 8
        },
        {
            "cell_type": "code",
            "source": [
                "--Top 10 Cities by Sales\r\n",
                "\r\n",
                "SELECT TOP 10 City, SUM(Sales) AS Sales\r\n",
                "FROM SuperStore.dbo.Store\r\n",
                "GROUP BY City\r\n",
                "ORDER BY Sales DESC;"
            ],
            "metadata": {
                "language": "sql",
                "azdata_cell_guid": "8f0e51d1-2e61-4d84-ba06-c26a700bd39a"
            },
            "outputs": [
                {
                    "output_type": "display_data",
                    "data": {
                        "text/html": "(10 rows affected)"
                    },
                    "metadata": {}
                },
                {
                    "output_type": "display_data",
                    "data": {
                        "text/html": "Total execution time: 00:00:00.124"
                    },
                    "metadata": {}
                },
                {
                    "output_type": "execute_result",
                    "metadata": {},
                    "execution_count": 9,
                    "data": {
                        "application/vnd.dataresource+json": {
                            "schema": {
                                "fields": [
                                    {
                                        "name": "City"
                                    },
                                    {
                                        "name": "Sales"
                                    }
                                ]
                            },
                            "data": [
                                {
                                    "City": "New York City",
                                    "Sales": "256368.161"
                                },
                                {
                                    "City": "Los Angeles",
                                    "Sales": "175851.3409999999"
                                },
                                {
                                    "City": "Seattle",
                                    "Sales": "119540.74199999997"
                                },
                                {
                                    "City": "San Francisco",
                                    "Sales": "112669.09199999993"
                                },
                                {
                                    "City": "Philadelphia",
                                    "Sales": "109077.01300000006"
                                },
                                {
                                    "City": "Houston",
                                    "Sales": "64504.76039999994"
                                },
                                {
                                    "City": "Chicago",
                                    "Sales": "48539.54100000003"
                                },
                                {
                                    "City": "San Diego",
                                    "Sales": "47521.028999999995"
                                },
                                {
                                    "City": "Jacksonville",
                                    "Sales": "44713.183"
                                },
                                {
                                    "City": "Springfield",
                                    "Sales": "43054.34200000001"
                                }
                            ]
                        },
                        "text/html": [
                            "<table>",
                            "<tr><th>City</th><th>Sales</th></tr>",
                            "<tr><td>New York City</td><td>256368.161</td></tr>",
                            "<tr><td>Los Angeles</td><td>175851.3409999999</td></tr>",
                            "<tr><td>Seattle</td><td>119540.74199999997</td></tr>",
                            "<tr><td>San Francisco</td><td>112669.09199999993</td></tr>",
                            "<tr><td>Philadelphia</td><td>109077.01300000006</td></tr>",
                            "<tr><td>Houston</td><td>64504.76039999994</td></tr>",
                            "<tr><td>Chicago</td><td>48539.54100000003</td></tr>",
                            "<tr><td>San Diego</td><td>47521.028999999995</td></tr>",
                            "<tr><td>Jacksonville</td><td>44713.183</td></tr>",
                            "<tr><td>Springfield</td><td>43054.34200000001</td></tr>",
                            "</table>"
                        ]
                    }
                }
            ],
            "execution_count": 9
        },
        {
            "cell_type": "code",
            "source": [
                "--Top 10 Customers by Sales\r\n",
                "\r\n",
                "SELECT TOP 10 [Customer Name], SUM(Sales) AS Sales\r\n",
                "FROM SuperStore.dbo.Store\r\n",
                "GROUP BY [Customer Name]\r\n",
                "ORDER BY Sales DESC;"
            ],
            "metadata": {
                "azdata_cell_guid": "7698e4a2-e9cc-4ef1-94e5-768d27588d00",
                "language": "sql"
            },
            "outputs": [
                {
                    "output_type": "display_data",
                    "data": {
                        "text/html": "(10 rows affected)"
                    },
                    "metadata": {}
                },
                {
                    "output_type": "display_data",
                    "data": {
                        "text/html": "Total execution time: 00:00:00.172"
                    },
                    "metadata": {}
                },
                {
                    "output_type": "execute_result",
                    "metadata": {},
                    "execution_count": 13,
                    "data": {
                        "application/vnd.dataresource+json": {
                            "schema": {
                                "fields": [
                                    {
                                        "name": "Customer Name"
                                    },
                                    {
                                        "name": "Sales"
                                    }
                                ]
                            },
                            "data": [
                                {
                                    "Customer Name": "Sean Miller",
                                    "Sales": "25043.05"
                                },
                                {
                                    "Customer Name": "Tamara Chand",
                                    "Sales": "19052.217999999993"
                                },
                                {
                                    "Customer Name": "Raymond Buch",
                                    "Sales": "15117.339"
                                },
                                {
                                    "Customer Name": "Tom Ashbrook",
                                    "Sales": "14595.62"
                                },
                                {
                                    "Customer Name": "Adrian Barton",
                                    "Sales": "14473.570999999998"
                                },
                                {
                                    "Customer Name": "Ken Lonsdale",
                                    "Sales": "14175.229"
                                },
                                {
                                    "Customer Name": "Sanjit Chand",
                                    "Sales": "14142.334"
                                },
                                {
                                    "Customer Name": "Hunter Lopez",
                                    "Sales": "12873.297999999999"
                                },
                                {
                                    "Customer Name": "Sanjit Engle",
                                    "Sales": "12209.438000000002"
                                },
                                {
                                    "Customer Name": "Christopher Conant",
                                    "Sales": "12129.071999999998"
                                }
                            ]
                        },
                        "text/html": [
                            "<table>",
                            "<tr><th>Customer Name</th><th>Sales</th></tr>",
                            "<tr><td>Sean Miller</td><td>25043.05</td></tr>",
                            "<tr><td>Tamara Chand</td><td>19052.217999999993</td></tr>",
                            "<tr><td>Raymond Buch</td><td>15117.339</td></tr>",
                            "<tr><td>Tom Ashbrook</td><td>14595.62</td></tr>",
                            "<tr><td>Adrian Barton</td><td>14473.570999999998</td></tr>",
                            "<tr><td>Ken Lonsdale</td><td>14175.229</td></tr>",
                            "<tr><td>Sanjit Chand</td><td>14142.334</td></tr>",
                            "<tr><td>Hunter Lopez</td><td>12873.297999999999</td></tr>",
                            "<tr><td>Sanjit Engle</td><td>12209.438000000002</td></tr>",
                            "<tr><td>Christopher Conant</td><td>12129.071999999998</td></tr>",
                            "</table>"
                        ]
                    }
                }
            ],
            "execution_count": 13
        },
        {
            "cell_type": "code",
            "source": [
                "--Top 10 Products by Sales\r\n",
                "\r\n",
                "SELECT TOP 10 [Product Name], SUM(Sales) AS Sales\r\n",
                "FROM SuperStore.dbo.Store\r\n",
                "GROUP BY [Product Name]\r\n",
                "ORDER BY Sales DESC;"
            ],
            "metadata": {
                "language": "sql",
                "azdata_cell_guid": "7040aabe-b866-41d5-aa22-068e518ca1a7"
            },
            "outputs": [
                {
                    "output_type": "display_data",
                    "data": {
                        "text/html": "(10 rows affected)"
                    },
                    "metadata": {}
                },
                {
                    "output_type": "display_data",
                    "data": {
                        "text/html": "Total execution time: 00:00:00.372"
                    },
                    "metadata": {}
                },
                {
                    "output_type": "execute_result",
                    "metadata": {},
                    "execution_count": 14,
                    "data": {
                        "application/vnd.dataresource+json": {
                            "schema": {
                                "fields": [
                                    {
                                        "name": "Product Name"
                                    },
                                    {
                                        "name": "Sales"
                                    }
                                ]
                            },
                            "data": [
                                {
                                    "Product Name": "Canon imageCLASS 2200 Advanced Copier",
                                    "Sales": "61599.824"
                                },
                                {
                                    "Product Name": "Fellowes PB500 Electric Punch Plastic Comb Binding Machine with Manual Bind",
                                    "Sales": "27453.384"
                                },
                                {
                                    "Product Name": "Cisco TelePresence System EX90 Videoconferencing Unit",
                                    "Sales": "22638.48"
                                },
                                {
                                    "Product Name": "HON 5400 Series Task Chairs for Big and Tall",
                                    "Sales": "21870.576"
                                },
                                {
                                    "Product Name": "GBC DocuBind TL300 Electric Binding System",
                                    "Sales": "19823.479000000003"
                                },
                                {
                                    "Product Name": "GBC Ibimaster 500 Manual ProClick Binding System",
                                    "Sales": "19024.5"
                                },
                                {
                                    "Product Name": "Hewlett Packard LaserJet 3310 Copier",
                                    "Sales": "18839.686"
                                },
                                {
                                    "Product Name": "HP Designjet T520 Inkjet Large Format Printer - 24\" Color",
                                    "Sales": "18374.895"
                                },
                                {
                                    "Product Name": "GBC DocuBind P400 Electric Binding System",
                                    "Sales": "17965.068"
                                },
                                {
                                    "Product Name": "High Speed Automatic Electric Letter Opener",
                                    "Sales": "17030.311999999998"
                                }
                            ]
                        },
                        "text/html": [
                            "<table>",
                            "<tr><th>Product Name</th><th>Sales</th></tr>",
                            "<tr><td>Canon imageCLASS 2200 Advanced Copier</td><td>61599.824</td></tr>",
                            "<tr><td>Fellowes PB500 Electric Punch Plastic Comb Binding Machine with Manual Bind</td><td>27453.384</td></tr>",
                            "<tr><td>Cisco TelePresence System EX90 Videoconferencing Unit</td><td>22638.48</td></tr>",
                            "<tr><td>HON 5400 Series Task Chairs for Big and Tall</td><td>21870.576</td></tr>",
                            "<tr><td>GBC DocuBind TL300 Electric Binding System</td><td>19823.479000000003</td></tr>",
                            "<tr><td>GBC Ibimaster 500 Manual ProClick Binding System</td><td>19024.5</td></tr>",
                            "<tr><td>Hewlett Packard LaserJet 3310 Copier</td><td>18839.686</td></tr>",
                            "<tr><td>HP Designjet T520 Inkjet Large Format Printer - 24&quot; Color</td><td>18374.895</td></tr>",
                            "<tr><td>GBC DocuBind P400 Electric Binding System</td><td>17965.068</td></tr>",
                            "<tr><td>High Speed Automatic Electric Letter Opener</td><td>17030.311999999998</td></tr>",
                            "</table>"
                        ]
                    }
                }
            ],
            "execution_count": 14
        },
        {
            "cell_type": "code",
            "source": [
                "--Category Sales\r\n",
                "\r\n",
                "SELECT Category, SUM(Sales) AS Sales\r\n",
                "FROM SuperStore.dbo.Store\r\n",
                "GROUP BY Category;"
            ],
            "metadata": {
                "language": "sql",
                "azdata_cell_guid": "e87f5198-4399-4a86-a5cc-ae418fe61a96"
            },
            "outputs": [
                {
                    "output_type": "display_data",
                    "data": {
                        "text/html": "(3 rows affected)"
                    },
                    "metadata": {}
                },
                {
                    "output_type": "display_data",
                    "data": {
                        "text/html": "Total execution time: 00:00:00.281"
                    },
                    "metadata": {}
                },
                {
                    "output_type": "execute_result",
                    "metadata": {},
                    "execution_count": 15,
                    "data": {
                        "application/vnd.dataresource+json": {
                            "schema": {
                                "fields": [
                                    {
                                        "name": "Category"
                                    },
                                    {
                                        "name": "Sales"
                                    }
                                ]
                            },
                            "data": [
                                {
                                    "Category": "Office Supplies",
                                    "Sales": "719047.0320000036"
                                },
                                {
                                    "Category": "Furniture",
                                    "Sales": "741999.7952999998"
                                },
                                {
                                    "Category": "Technology",
                                    "Sales": "836154.0329999962"
                                }
                            ]
                        },
                        "text/html": [
                            "<table>",
                            "<tr><th>Category</th><th>Sales</th></tr>",
                            "<tr><td>Office Supplies</td><td>719047.0320000036</td></tr>",
                            "<tr><td>Furniture</td><td>741999.7952999998</td></tr>",
                            "<tr><td>Technology</td><td>836154.0329999962</td></tr>",
                            "</table>"
                        ]
                    }
                }
            ],
            "execution_count": 15
        },
        {
            "cell_type": "code",
            "source": [
                "--Sub-Category Sales\r\n",
                "\r\n",
                "SELECT [Sub-Category], SUM(Sales) AS Sales\r\n",
                "FROM SuperStore.dbo.Store\r\n",
                "GROUP BY [Sub-Category];"
            ],
            "metadata": {
                "language": "sql",
                "azdata_cell_guid": "826cc55e-6ae4-4b68-8cd7-44d4b1e662cd"
            },
            "outputs": [
                {
                    "output_type": "display_data",
                    "data": {
                        "text/html": "(17 rows affected)"
                    },
                    "metadata": {}
                },
                {
                    "output_type": "display_data",
                    "data": {
                        "text/html": "Total execution time: 00:00:04.571"
                    },
                    "metadata": {}
                },
                {
                    "output_type": "execute_result",
                    "metadata": {},
                    "execution_count": 16,
                    "data": {
                        "application/vnd.dataresource+json": {
                            "schema": {
                                "fields": [
                                    {
                                        "name": "Sub-Category"
                                    },
                                    {
                                        "name": "Sales"
                                    }
                                ]
                            },
                            "data": [
                                {
                                    "Sub-Category": "Supplies",
                                    "Sales": "46673.538000000015"
                                },
                                {
                                    "Sub-Category": "Storage",
                                    "Sales": "223843.6080000001"
                                },
                                {
                                    "Sub-Category": "Phones",
                                    "Sales": "330007.0540000001"
                                },
                                {
                                    "Sub-Category": "Fasteners",
                                    "Sales": "3024.28"
                                },
                                {
                                    "Sub-Category": "Copiers",
                                    "Sales": "149528.02999999994"
                                },
                                {
                                    "Sub-Category": "Chairs",
                                    "Sales": "328449.10300000076"
                                },
                                {
                                    "Sub-Category": "Bookcases",
                                    "Sales": "114879.99629999998"
                                },
                                {
                                    "Sub-Category": "Machines",
                                    "Sales": "189238.63099999994"
                                },
                                {
                                    "Sub-Category": "Art",
                                    "Sales": "27118.79199999995"
                                },
                                {
                                    "Sub-Category": "Envelopes",
                                    "Sales": "16476.402"
                                },
                                {
                                    "Sub-Category": "Binders",
                                    "Sales": "203412.73300000004"
                                },
                                {
                                    "Sub-Category": "Labels",
                                    "Sales": "12486.312000000002"
                                },
                                {
                                    "Sub-Category": "Furnishings",
                                    "Sales": "91705.16400000008"
                                },
                                {
                                    "Sub-Category": "Accessories",
                                    "Sales": "167380.31800000006"
                                },
                                {
                                    "Sub-Category": "Appliances",
                                    "Sales": "107532.161"
                                },
                                {
                                    "Sub-Category": "Paper",
                                    "Sales": "78479.20599999999"
                                },
                                {
                                    "Sub-Category": "Tables",
                                    "Sales": "206965.5320000001"
                                }
                            ]
                        },
                        "text/html": [
                            "<table>",
                            "<tr><th>Sub-Category</th><th>Sales</th></tr>",
                            "<tr><td>Supplies</td><td>46673.538000000015</td></tr>",
                            "<tr><td>Storage</td><td>223843.6080000001</td></tr>",
                            "<tr><td>Phones</td><td>330007.0540000001</td></tr>",
                            "<tr><td>Fasteners</td><td>3024.28</td></tr>",
                            "<tr><td>Copiers</td><td>149528.02999999994</td></tr>",
                            "<tr><td>Chairs</td><td>328449.10300000076</td></tr>",
                            "<tr><td>Bookcases</td><td>114879.99629999998</td></tr>",
                            "<tr><td>Machines</td><td>189238.63099999994</td></tr>",
                            "<tr><td>Art</td><td>27118.79199999995</td></tr>",
                            "<tr><td>Envelopes</td><td>16476.402</td></tr>",
                            "<tr><td>Binders</td><td>203412.73300000004</td></tr>",
                            "<tr><td>Labels</td><td>12486.312000000002</td></tr>",
                            "<tr><td>Furnishings</td><td>91705.16400000008</td></tr>",
                            "<tr><td>Accessories</td><td>167380.31800000006</td></tr>",
                            "<tr><td>Appliances</td><td>107532.161</td></tr>",
                            "<tr><td>Paper</td><td>78479.20599999999</td></tr>",
                            "<tr><td>Tables</td><td>206965.5320000001</td></tr>",
                            "</table>"
                        ]
                    }
                }
            ],
            "execution_count": 16
        },
        {
            "cell_type": "code",
            "source": [
                "--Profit by Category\r\n",
                "\r\n",
                "SELECT Category, SUM(Profit) AS Profit\r\n",
                "FROM SuperStore.dbo.Store\r\n",
                "GROUP BY Category;"
            ],
            "metadata": {
                "language": "sql",
                "azdata_cell_guid": "fbc2a8d8-cb1f-4892-8a65-842097dcbda2"
            },
            "outputs": [
                {
                    "output_type": "display_data",
                    "data": {
                        "text/html": "(3 rows affected)"
                    },
                    "metadata": {}
                },
                {
                    "output_type": "display_data",
                    "data": {
                        "text/html": "Total execution time: 00:00:00.201"
                    },
                    "metadata": {}
                },
                {
                    "output_type": "execute_result",
                    "metadata": {},
                    "execution_count": 17,
                    "data": {
                        "application/vnd.dataresource+json": {
                            "schema": {
                                "fields": [
                                    {
                                        "name": "Category"
                                    },
                                    {
                                        "name": "Profit"
                                    }
                                ]
                            },
                            "data": [
                                {
                                    "Category": "Office Supplies",
                                    "Profit": "122490.80080000016"
                                },
                                {
                                    "Category": "Furniture",
                                    "Profit": "18451.27279999999"
                                },
                                {
                                    "Category": "Technology",
                                    "Profit": "145454.94809999986"
                                }
                            ]
                        },
                        "text/html": [
                            "<table>",
                            "<tr><th>Category</th><th>Profit</th></tr>",
                            "<tr><td>Office Supplies</td><td>122490.80080000016</td></tr>",
                            "<tr><td>Furniture</td><td>18451.27279999999</td></tr>",
                            "<tr><td>Technology</td><td>145454.94809999986</td></tr>",
                            "</table>"
                        ]
                    }
                }
            ],
            "execution_count": 17
        },
        {
            "cell_type": "code",
            "source": [
                "--Profit by Sub-Category\r\n",
                "\r\n",
                "SELECT [Sub-Category], SUM(Profit) AS Profit\r\n",
                "FROM SuperStore.dbo.Store\r\n",
                "GROUP BY [Sub-Category]\r\n",
                "ORDER BY Profit DESC;"
            ],
            "metadata": {
                "language": "sql",
                "azdata_cell_guid": "4eabf2ae-0703-4ef6-8bae-d49e285ddf40"
            },
            "outputs": [
                {
                    "output_type": "display_data",
                    "data": {
                        "text/html": "(17 rows affected)"
                    },
                    "metadata": {}
                },
                {
                    "output_type": "display_data",
                    "data": {
                        "text/html": "Total execution time: 00:00:00.159"
                    },
                    "metadata": {}
                },
                {
                    "output_type": "execute_result",
                    "metadata": {},
                    "execution_count": 18,
                    "data": {
                        "application/vnd.dataresource+json": {
                            "schema": {
                                "fields": [
                                    {
                                        "name": "Sub-Category"
                                    },
                                    {
                                        "name": "Profit"
                                    }
                                ]
                            },
                            "data": [
                                {
                                    "Sub-Category": "Copiers",
                                    "Profit": "55617.8249"
                                },
                                {
                                    "Sub-Category": "Phones",
                                    "Profit": "44515.73059999998"
                                },
                                {
                                    "Sub-Category": "Accessories",
                                    "Profit": "41936.63569999993"
                                },
                                {
                                    "Sub-Category": "Paper",
                                    "Profit": "34053.56929999998"
                                },
                                {
                                    "Sub-Category": "Binders",
                                    "Profit": "30221.76329999999"
                                },
                                {
                                    "Sub-Category": "Chairs",
                                    "Profit": "26590.16630000002"
                                },
                                {
                                    "Sub-Category": "Storage",
                                    "Profit": "21278.826399999987"
                                },
                                {
                                    "Sub-Category": "Appliances",
                                    "Profit": "18138.005399999995"
                                },
                                {
                                    "Sub-Category": "Furnishings",
                                    "Profit": "13059.143599999985"
                                },
                                {
                                    "Sub-Category": "Envelopes",
                                    "Profit": "6964.176700000003"
                                },
                                {
                                    "Sub-Category": "Art",
                                    "Profit": "6527.7869999999975"
                                },
                                {
                                    "Sub-Category": "Labels",
                                    "Profit": "5546.253999999997"
                                },
                                {
                                    "Sub-Category": "Machines",
                                    "Profit": "3384.756899999989"
                                },
                                {
                                    "Sub-Category": "Fasteners",
                                    "Profit": "949.5181999999995"
                                },
                                {
                                    "Sub-Category": "Supplies",
                                    "Profit": "-1189.0994999999987"
                                },
                                {
                                    "Sub-Category": "Bookcases",
                                    "Profit": "-3472.5560000000023"
                                },
                                {
                                    "Sub-Category": "Tables",
                                    "Profit": "-17725.4811"
                                }
                            ]
                        },
                        "text/html": [
                            "<table>",
                            "<tr><th>Sub-Category</th><th>Profit</th></tr>",
                            "<tr><td>Copiers</td><td>55617.8249</td></tr>",
                            "<tr><td>Phones</td><td>44515.73059999998</td></tr>",
                            "<tr><td>Accessories</td><td>41936.63569999993</td></tr>",
                            "<tr><td>Paper</td><td>34053.56929999998</td></tr>",
                            "<tr><td>Binders</td><td>30221.76329999999</td></tr>",
                            "<tr><td>Chairs</td><td>26590.16630000002</td></tr>",
                            "<tr><td>Storage</td><td>21278.826399999987</td></tr>",
                            "<tr><td>Appliances</td><td>18138.005399999995</td></tr>",
                            "<tr><td>Furnishings</td><td>13059.143599999985</td></tr>",
                            "<tr><td>Envelopes</td><td>6964.176700000003</td></tr>",
                            "<tr><td>Art</td><td>6527.7869999999975</td></tr>",
                            "<tr><td>Labels</td><td>5546.253999999997</td></tr>",
                            "<tr><td>Machines</td><td>3384.756899999989</td></tr>",
                            "<tr><td>Fasteners</td><td>949.5181999999995</td></tr>",
                            "<tr><td>Supplies</td><td>-1189.0994999999987</td></tr>",
                            "<tr><td>Bookcases</td><td>-3472.5560000000023</td></tr>",
                            "<tr><td>Tables</td><td>-17725.4811</td></tr>",
                            "</table>"
                        ]
                    }
                }
            ],
            "execution_count": 18
        },
        {
            "cell_type": "code",
            "source": [
                "--Discount Impact\r\n",
                "\r\n",
                "SELECT Discount, SUM(Profit) AS Profit\r\n",
                "FROM SuperStore.dbo.Store\r\n",
                "GROUP BY Discount\r\n",
                "ORDER BY Discount;"
            ],
            "metadata": {
                "language": "sql",
                "azdata_cell_guid": "f085f99c-a39b-4ce9-a6fe-74746066f2a8"
            },
            "outputs": [
                {
                    "output_type": "display_data",
                    "data": {
                        "text/html": "(12 rows affected)"
                    },
                    "metadata": {}
                },
                {
                    "output_type": "display_data",
                    "data": {
                        "text/html": "Total execution time: 00:00:03.674"
                    },
                    "metadata": {}
                },
                {
                    "output_type": "execute_result",
                    "metadata": {},
                    "execution_count": 11,
                    "data": {
                        "application/vnd.dataresource+json": {
                            "schema": {
                                "fields": [
                                    {
                                        "name": "Discount"
                                    },
                                    {
                                        "name": "(No column name)"
                                    },
                                    {
                                        "name": "Profit"
                                    }
                                ]
                            },
                            "data": [
                                {
                                    "Discount": "0",
                                    "(No column name)": "4798",
                                    "Profit": "320987.6031999998"
                                },
                                {
                                    "Discount": "0.1",
                                    "(No column name)": "94",
                                    "Profit": "9029.176999999998"
                                },
                                {
                                    "Discount": "0.15",
                                    "(No column name)": "52",
                                    "Profit": "1418.991499999999"
                                },
                                {
                                    "Discount": "0.2",
                                    "(No column name)": "3657",
                                    "Profit": "90337.30600000001"
                                },
                                {
                                    "Discount": "0.3",
                                    "(No column name)": "227",
                                    "Profit": "-10369.277399999997"
                                },
                                {
                                    "Discount": "0.32",
                                    "(No column name)": "27",
                                    "Profit": "-2391.1377000000007"
                                },
                                {
                                    "Discount": "0.4",
                                    "(No column name)": "206",
                                    "Profit": "-23057.05040000002"
                                },
                                {
                                    "Discount": "0.45",
                                    "(No column name)": "11",
                                    "Profit": "-2493.1111"
                                },
                                {
                                    "Discount": "0.5",
                                    "(No column name)": "66",
                                    "Profit": "-20506.428099999997"
                                },
                                {
                                    "Discount": "0.6",
                                    "(No column name)": "138",
                                    "Profit": "-5944.655200000001"
                                },
                                {
                                    "Discount": "0.7",
                                    "(No column name)": "418",
                                    "Profit": "-40075.35689999996"
                                },
                                {
                                    "Discount": "0.8",
                                    "(No column name)": "300",
                                    "Profit": "-30539.03919999999"
                                }
                            ]
                        },
                        "text/html": [
                            "<table>",
                            "<tr><th>Discount</th><th>(No column name)</th><th>Profit</th></tr>",
                            "<tr><td>0</td><td>4798</td><td>320987.6031999998</td></tr>",
                            "<tr><td>0.1</td><td>94</td><td>9029.176999999998</td></tr>",
                            "<tr><td>0.15</td><td>52</td><td>1418.991499999999</td></tr>",
                            "<tr><td>0.2</td><td>3657</td><td>90337.30600000001</td></tr>",
                            "<tr><td>0.3</td><td>227</td><td>-10369.277399999997</td></tr>",
                            "<tr><td>0.32</td><td>27</td><td>-2391.1377000000007</td></tr>",
                            "<tr><td>0.4</td><td>206</td><td>-23057.05040000002</td></tr>",
                            "<tr><td>0.45</td><td>11</td><td>-2493.1111</td></tr>",
                            "<tr><td>0.5</td><td>66</td><td>-20506.428099999997</td></tr>",
                            "<tr><td>0.6</td><td>138</td><td>-5944.655200000001</td></tr>",
                            "<tr><td>0.7</td><td>418</td><td>-40075.35689999996</td></tr>",
                            "<tr><td>0.8</td><td>300</td><td>-30539.03919999999</td></tr>",
                            "</table>"
                        ]
                    }
                }
            ],
            "execution_count": 11
        },
        {
            "cell_type": "code",
            "source": [
                "SELECT \r\n",
                "    Discount,\r\n",
                "    CAST(COUNT(*) * 100.0 / SUM(COUNT(*)) OVER() AS DECIMAL(5,2)) AS DiscountPercentage,\r\n",
                "    SUM(Profit) AS Profit\r\n",
                "FROM SuperStore.dbo.Store\r\n",
                "GROUP BY Discount\r\n",
                "ORDER BY Discount;"
            ],
            "metadata": {
                "language": "sql",
                "azdata_cell_guid": "3b278fd0-2f2c-44ab-9af9-8002aca54021"
            },
            "outputs": [
                {
                    "output_type": "display_data",
                    "data": {
                        "text/html": "(12 rows affected)"
                    },
                    "metadata": {}
                },
                {
                    "output_type": "display_data",
                    "data": {
                        "text/html": "Total execution time: 00:00:00.080"
                    },
                    "metadata": {}
                },
                {
                    "output_type": "execute_result",
                    "metadata": {},
                    "execution_count": 12,
                    "data": {
                        "application/vnd.dataresource+json": {
                            "schema": {
                                "fields": [
                                    {
                                        "name": "Discount"
                                    },
                                    {
                                        "name": "DiscountPercentage"
                                    },
                                    {
                                        "name": "Profit"
                                    }
                                ]
                            },
                            "data": [
                                {
                                    "Discount": "0",
                                    "DiscountPercentage": "48.01",
                                    "Profit": "320987.6031999998"
                                },
                                {
                                    "Discount": "0.1",
                                    "DiscountPercentage": "0.94",
                                    "Profit": "9029.176999999998"
                                },
                                {
                                    "Discount": "0.15",
                                    "DiscountPercentage": "0.52",
                                    "Profit": "1418.991499999999"
                                },
                                {
                                    "Discount": "0.2",
                                    "DiscountPercentage": "36.59",
                                    "Profit": "90337.30600000001"
                                },
                                {
                                    "Discount": "0.3",
                                    "DiscountPercentage": "2.27",
                                    "Profit": "-10369.277399999997"
                                },
                                {
                                    "Discount": "0.32",
                                    "DiscountPercentage": "0.27",
                                    "Profit": "-2391.1377000000007"
                                },
                                {
                                    "Discount": "0.4",
                                    "DiscountPercentage": "2.06",
                                    "Profit": "-23057.05040000002"
                                },
                                {
                                    "Discount": "0.45",
                                    "DiscountPercentage": "0.11",
                                    "Profit": "-2493.1111"
                                },
                                {
                                    "Discount": "0.5",
                                    "DiscountPercentage": "0.66",
                                    "Profit": "-20506.428099999997"
                                },
                                {
                                    "Discount": "0.6",
                                    "DiscountPercentage": "1.38",
                                    "Profit": "-5944.655200000001"
                                },
                                {
                                    "Discount": "0.7",
                                    "DiscountPercentage": "4.18",
                                    "Profit": "-40075.35689999996"
                                },
                                {
                                    "Discount": "0.8",
                                    "DiscountPercentage": "3.00",
                                    "Profit": "-30539.03919999999"
                                }
                            ]
                        },
                        "text/html": [
                            "<table>",
                            "<tr><th>Discount</th><th>DiscountPercentage</th><th>Profit</th></tr>",
                            "<tr><td>0</td><td>48.01</td><td>320987.6031999998</td></tr>",
                            "<tr><td>0.1</td><td>0.94</td><td>9029.176999999998</td></tr>",
                            "<tr><td>0.15</td><td>0.52</td><td>1418.991499999999</td></tr>",
                            "<tr><td>0.2</td><td>36.59</td><td>90337.30600000001</td></tr>",
                            "<tr><td>0.3</td><td>2.27</td><td>-10369.277399999997</td></tr>",
                            "<tr><td>0.32</td><td>0.27</td><td>-2391.1377000000007</td></tr>",
                            "<tr><td>0.4</td><td>2.06</td><td>-23057.05040000002</td></tr>",
                            "<tr><td>0.45</td><td>0.11</td><td>-2493.1111</td></tr>",
                            "<tr><td>0.5</td><td>0.66</td><td>-20506.428099999997</td></tr>",
                            "<tr><td>0.6</td><td>1.38</td><td>-5944.655200000001</td></tr>",
                            "<tr><td>0.7</td><td>4.18</td><td>-40075.35689999996</td></tr>",
                            "<tr><td>0.8</td><td>3.00</td><td>-30539.03919999999</td></tr>",
                            "</table>"
                        ]
                    }
                }
            ],
            "execution_count": 12
        },
        {
            "cell_type": "code",
            "source": [
                "--Orders Per Year\r\n",
                "\r\n",
                "SELECT YEAR([Order Date]) AS OrderYear, COUNT(DISTINCT [Order ID]) AS Orders\r\n",
                "FROM SuperStore.dbo.Store\r\n",
                "GROUP BY YEAR([Order Date])\r\n",
                "ORDER BY OrderYear;"
            ],
            "metadata": {
                "language": "sql",
                "azdata_cell_guid": "4a507f37-eea5-4d11-aac1-850063ae6a7f"
            },
            "outputs": [
                {
                    "output_type": "display_data",
                    "data": {
                        "text/html": "(4 rows affected)"
                    },
                    "metadata": {}
                },
                {
                    "output_type": "display_data",
                    "data": {
                        "text/html": "Total execution time: 00:00:00.383"
                    },
                    "metadata": {}
                },
                {
                    "output_type": "execute_result",
                    "metadata": {},
                    "execution_count": 20,
                    "data": {
                        "application/vnd.dataresource+json": {
                            "schema": {
                                "fields": [
                                    {
                                        "name": "OrderYear"
                                    },
                                    {
                                        "name": "Orders"
                                    }
                                ]
                            },
                            "data": [
                                {
                                    "OrderYear": "2018",
                                    "Orders": "969"
                                },
                                {
                                    "OrderYear": "2019",
                                    "Orders": "1038"
                                },
                                {
                                    "OrderYear": "2020",
                                    "Orders": "1315"
                                },
                                {
                                    "OrderYear": "2021",
                                    "Orders": "1687"
                                }
                            ]
                        },
                        "text/html": [
                            "<table>",
                            "<tr><th>OrderYear</th><th>Orders</th></tr>",
                            "<tr><td>2018</td><td>969</td></tr>",
                            "<tr><td>2019</td><td>1038</td></tr>",
                            "<tr><td>2020</td><td>1315</td></tr>",
                            "<tr><td>2021</td><td>1687</td></tr>",
                            "</table>"
                        ]
                    }
                }
            ],
            "execution_count": 20
        },
        {
            "cell_type": "code",
            "source": [
                "--Sales by Segment\r\n",
                "\r\n",
                "SELECT Segment, SUM(Sales) AS Sales\r\n",
                "FROM SuperStore.dbo.Store\r\n",
                "GROUP BY Segment;"
            ],
            "metadata": {
                "language": "sql",
                "azdata_cell_guid": "ac4fa2b7-eb70-499b-b474-e9d514c0db6d"
            },
            "outputs": [
                {
                    "output_type": "display_data",
                    "data": {
                        "text/html": "(3 rows affected)"
                    },
                    "metadata": {}
                },
                {
                    "output_type": "display_data",
                    "data": {
                        "text/html": "Total execution time: 00:00:00.118"
                    },
                    "metadata": {}
                },
                {
                    "output_type": "execute_result",
                    "metadata": {},
                    "execution_count": 24,
                    "data": {
                        "application/vnd.dataresource+json": {
                            "schema": {
                                "fields": [
                                    {
                                        "name": "Segment"
                                    },
                                    {
                                        "name": "Sales"
                                    }
                                ]
                            },
                            "data": [
                                {
                                    "Segment": "Corporate",
                                    "Sales": "706146.366800001"
                                },
                                {
                                    "Segment": "Home Office",
                                    "Sales": "429653.14850000036"
                                },
                                {
                                    "Segment": "Consumer",
                                    "Sales": "1161401.3449999895"
                                }
                            ]
                        },
                        "text/html": [
                            "<table>",
                            "<tr><th>Segment</th><th>Sales</th></tr>",
                            "<tr><td>Corporate</td><td>706146.366800001</td></tr>",
                            "<tr><td>Home Office</td><td>429653.14850000036</td></tr>",
                            "<tr><td>Consumer</td><td>1161401.3449999895</td></tr>",
                            "</table>"
                        ]
                    }
                }
            ],
            "execution_count": 24
        },
        {
            "cell_type": "code",
            "source": [
                "--Shipping Mode Usage\r\n",
                "\r\n",
                "SELECT [Ship Mode], COUNT(*) AS Shipments\r\n",
                "FROM SuperStore.dbo.Store\r\n",
                "GROUP BY [Ship Mode]\r\n",
                "ORDER BY Shipments DESC;"
            ],
            "metadata": {
                "language": "sql",
                "azdata_cell_guid": "0f5a0431-08a5-4c7c-a048-ed28a832d33a"
            },
            "outputs": [
                {
                    "output_type": "display_data",
                    "data": {
                        "text/html": "(4 rows affected)"
                    },
                    "metadata": {}
                },
                {
                    "output_type": "display_data",
                    "data": {
                        "text/html": "Total execution time: 00:00:00.414"
                    },
                    "metadata": {}
                },
                {
                    "output_type": "execute_result",
                    "metadata": {},
                    "execution_count": 23,
                    "data": {
                        "application/vnd.dataresource+json": {
                            "schema": {
                                "fields": [
                                    {
                                        "name": "Ship Mode"
                                    },
                                    {
                                        "name": "Shipments"
                                    }
                                ]
                            },
                            "data": [
                                {
                                    "Ship Mode": "Standard Class",
                                    "Shipments": "5968"
                                },
                                {
                                    "Ship Mode": "Second Class",
                                    "Shipments": "1945"
                                },
                                {
                                    "Ship Mode": "First Class",
                                    "Shipments": "1538"
                                },
                                {
                                    "Ship Mode": "Same Day",
                                    "Shipments": "543"
                                }
                            ]
                        },
                        "text/html": [
                            "<table>",
                            "<tr><th>Ship Mode</th><th>Shipments</th></tr>",
                            "<tr><td>Standard Class</td><td>5968</td></tr>",
                            "<tr><td>Second Class</td><td>1945</td></tr>",
                            "<tr><td>First Class</td><td>1538</td></tr>",
                            "<tr><td>Same Day</td><td>543</td></tr>",
                            "</table>"
                        ]
                    }
                }
            ],
            "execution_count": 23
        },
        {
            "cell_type": "code",
            "source": [
                "--Delivery Time Analysis\r\n",
                "\r\n",
                "SELECT AVG(DATEDIFF(DAY, [Order Date], [Ship Date])) AS AvgShippingDays\r\n",
                "FROM SuperStore.dbo.Store;"
            ],
            "metadata": {
                "language": "sql",
                "azdata_cell_guid": "22ac3c64-80a4-449f-8e6e-190dfc6d985b"
            },
            "outputs": [
                {
                    "output_type": "display_data",
                    "data": {
                        "text/html": "(1 row affected)"
                    },
                    "metadata": {}
                },
                {
                    "output_type": "display_data",
                    "data": {
                        "text/html": "Total execution time: 00:00:00.114"
                    },
                    "metadata": {}
                },
                {
                    "output_type": "execute_result",
                    "metadata": {},
                    "execution_count": 25,
                    "data": {
                        "application/vnd.dataresource+json": {
                            "schema": {
                                "fields": [
                                    {
                                        "name": "AvgShippingDays"
                                    }
                                ]
                            },
                            "data": [
                                {
                                    "AvgShippingDays": "3"
                                }
                            ]
                        },
                        "text/html": [
                            "<table>",
                            "<tr><th>AvgShippingDays</th></tr>",
                            "<tr><td>3</td></tr>",
                            "</table>"
                        ]
                    }
                }
            ],
            "execution_count": 25
        },
        {
            "cell_type": "code",
            "source": [
                "--top 5 loss-making products\r\n",
                "\r\n",
                "SELECT TOP 5 [Product Name], SUM(Profit) AS TotalProfit\r\n",
                "FROM SuperStore.dbo.Store\r\n",
                "GROUP BY [Product Name]\r\n",
                "ORDER BY TotalProfit ASC;"
            ],
            "metadata": {
                "language": "sql",
                "azdata_cell_guid": "20c9fd63-2992-487a-8a56-6a58e34eef58"
            },
            "outputs": [
                {
                    "output_type": "display_data",
                    "data": {
                        "text/html": "(5 rows affected)"
                    },
                    "metadata": {}
                },
                {
                    "output_type": "display_data",
                    "data": {
                        "text/html": "Total execution time: 00:00:00.170"
                    },
                    "metadata": {}
                },
                {
                    "output_type": "execute_result",
                    "metadata": {},
                    "execution_count": 26,
                    "data": {
                        "application/vnd.dataresource+json": {
                            "schema": {
                                "fields": [
                                    {
                                        "name": "Product Name"
                                    },
                                    {
                                        "name": "TotalProfit"
                                    }
                                ]
                            },
                            "data": [
                                {
                                    "Product Name": "Cubify CubeX 3D Printer Double Head Print",
                                    "TotalProfit": "-8879.970400000002"
                                },
                                {
                                    "Product Name": "Lexmark MX611dhe Monochrome Laser Printer",
                                    "TotalProfit": "-4589.973000000004"
                                },
                                {
                                    "Product Name": "Cubify CubeX 3D Printer Triple Head Print",
                                    "TotalProfit": "-3839.9903999999988"
                                },
                                {
                                    "Product Name": "Chromcraft Bull-Nose Wood Oval Conference Tables & Bases",
                                    "TotalProfit": "-2876.1156000000005"
                                },
                                {
                                    "Product Name": "Bush Advantage Collection Racetrack Conference Table",
                                    "TotalProfit": "-1934.3975999999998"
                                }
                            ]
                        },
                        "text/html": [
                            "<table>",
                            "<tr><th>Product Name</th><th>TotalProfit</th></tr>",
                            "<tr><td>Cubify CubeX 3D Printer Double Head Print</td><td>-8879.970400000002</td></tr>",
                            "<tr><td>Lexmark MX611dhe Monochrome Laser Printer</td><td>-4589.973000000004</td></tr>",
                            "<tr><td>Cubify CubeX 3D Printer Triple Head Print</td><td>-3839.9903999999988</td></tr>",
                            "<tr><td>Chromcraft Bull-Nose Wood Oval Conference Tables &amp; Bases</td><td>-2876.1156000000005</td></tr>",
                            "<tr><td>Bush Advantage Collection Racetrack Conference Table</td><td>-1934.3975999999998</td></tr>",
                            "</table>"
                        ]
                    }
                }
            ],
            "execution_count": 26
        },
        {
            "cell_type": "code",
            "source": [
                "--top 5 profitable products\r\n",
                "\r\n",
                "SELECT TOP 5 [Product Name], SUM(Profit) AS TotalProfit\r\n",
                "FROM SuperStore.dbo.Store\r\n",
                "GROUP BY [Product Name]\r\n",
                "ORDER BY TotalProfit DESC;"
            ],
            "metadata": {
                "language": "sql",
                "azdata_cell_guid": "ebfffd6f-c5f7-41dd-850b-9e89f1b21c54"
            },
            "outputs": [
                {
                    "output_type": "display_data",
                    "data": {
                        "text/html": "(5 rows affected)"
                    },
                    "metadata": {}
                },
                {
                    "output_type": "display_data",
                    "data": {
                        "text/html": "Total execution time: 00:00:00.716"
                    },
                    "metadata": {}
                },
                {
                    "output_type": "execute_result",
                    "metadata": {},
                    "execution_count": 27,
                    "data": {
                        "application/vnd.dataresource+json": {
                            "schema": {
                                "fields": [
                                    {
                                        "name": "Product Name"
                                    },
                                    {
                                        "name": "TotalProfit"
                                    }
                                ]
                            },
                            "data": [
                                {
                                    "Product Name": "Canon imageCLASS 2200 Advanced Copier",
                                    "TotalProfit": "25199.927999999993"
                                },
                                {
                                    "Product Name": "Fellowes PB500 Electric Punch Plastic Comb Binding Machine with Manual Bind",
                                    "TotalProfit": "7753.039"
                                },
                                {
                                    "Product Name": "Hewlett Packard LaserJet 3310 Copier",
                                    "TotalProfit": "6983.8836"
                                },
                                {
                                    "Product Name": "Canon PC1060 Personal Laser Copier",
                                    "TotalProfit": "4570.9347"
                                },
                                {
                                    "Product Name": "HP Designjet T520 Inkjet Large Format Printer - 24\" Color",
                                    "TotalProfit": "4094.9765999999986"
                                }
                            ]
                        },
                        "text/html": [
                            "<table>",
                            "<tr><th>Product Name</th><th>TotalProfit</th></tr>",
                            "<tr><td>Canon imageCLASS 2200 Advanced Copier</td><td>25199.927999999993</td></tr>",
                            "<tr><td>Fellowes PB500 Electric Punch Plastic Comb Binding Machine with Manual Bind</td><td>7753.039</td></tr>",
                            "<tr><td>Hewlett Packard LaserJet 3310 Copier</td><td>6983.8836</td></tr>",
                            "<tr><td>Canon PC1060 Personal Laser Copier</td><td>4570.9347</td></tr>",
                            "<tr><td>HP Designjet T520 Inkjet Large Format Printer - 24&quot; Color</td><td>4094.9765999999986</td></tr>",
                            "</table>"
                        ]
                    }
                }
            ],
            "execution_count": 27
        },
        {
            "cell_type": "code",
            "source": [
                "--contribution margin per category\r\n",
                "\r\n",
                "SELECT Category, SUM(Profit)/SUM(Sales) AS ProfitMargin\r\n",
                "FROM SuperStore.dbo.Store\r\n",
                "GROUP BY Category\r\n",
                "ORDER BY ProfitMargin DESC;"
            ],
            "metadata": {
                "language": "sql",
                "azdata_cell_guid": "f66c570f-e3a6-454c-a287-b5e227ef0476"
            },
            "outputs": [
                {
                    "output_type": "display_data",
                    "data": {
                        "text/html": "(3 rows affected)"
                    },
                    "metadata": {}
                },
                {
                    "output_type": "display_data",
                    "data": {
                        "text/html": "Total execution time: 00:00:00.096"
                    },
                    "metadata": {}
                },
                {
                    "output_type": "execute_result",
                    "metadata": {},
                    "execution_count": 28,
                    "data": {
                        "application/vnd.dataresource+json": {
                            "schema": {
                                "fields": [
                                    {
                                        "name": "Category"
                                    },
                                    {
                                        "name": "ProfitMargin"
                                    }
                                ]
                            },
                            "data": [
                                {
                                    "Category": "Technology",
                                    "ProfitMargin": "0.17395712076892"
                                },
                                {
                                    "Category": "Office Supplies",
                                    "ProfitMargin": "0.17035158390028587"
                                },
                                {
                                    "Category": "Furniture",
                                    "ProfitMargin": "0.024866951334588862"
                                }
                            ]
                        },
                        "text/html": [
                            "<table>",
                            "<tr><th>Category</th><th>ProfitMargin</th></tr>",
                            "<tr><td>Technology</td><td>0.17395712076892</td></tr>",
                            "<tr><td>Office Supplies</td><td>0.17035158390028587</td></tr>",
                            "<tr><td>Furniture</td><td>0.024866951334588862</td></tr>",
                            "</table>"
                        ]
                    }
                }
            ],
            "execution_count": 28
        },
        {
            "cell_type": "code",
            "source": [
                "--sales growth YoY\r\n",
                "\r\n",
                "SELECT YEAR([Order Date]) AS Year, \r\n",
                "       SUM(Sales) AS Sales,\r\n",
                "       LAG(SUM(Sales)) OVER (ORDER BY YEAR([Order Date])) AS PrevYearSales,\r\n",
                "       (SUM(Sales) - LAG(SUM(Sales)) OVER (ORDER BY YEAR([Order Date]))) * 100.0 \r\n",
                "       / LAG(SUM(Sales)) OVER (ORDER BY YEAR([Order Date])) AS GrowthPct\r\n",
                "FROM SuperStore.dbo.Store\r\n",
                "GROUP BY YEAR([Order Date])\r\n",
                "ORDER BY Year;"
            ],
            "metadata": {
                "language": "sql",
                "azdata_cell_guid": "5931c3ce-d1b8-431a-8937-9046564187c0"
            },
            "outputs": [
                {
                    "output_type": "display_data",
                    "data": {
                        "text/html": "(4 rows affected)"
                    },
                    "metadata": {}
                },
                {
                    "output_type": "display_data",
                    "data": {
                        "text/html": "Total execution time: 00:00:01.401"
                    },
                    "metadata": {}
                },
                {
                    "output_type": "execute_result",
                    "metadata": {},
                    "execution_count": 29,
                    "data": {
                        "application/vnd.dataresource+json": {
                            "schema": {
                                "fields": [
                                    {
                                        "name": "Year"
                                    },
                                    {
                                        "name": "Sales"
                                    },
                                    {
                                        "name": "PrevYearSales"
                                    },
                                    {
                                        "name": "GrowthPct"
                                    }
                                ]
                            },
                            "data": [
                                {
                                    "Year": "2018",
                                    "Sales": "484247.4981000008",
                                    "PrevYearSales": "NULL",
                                    "GrowthPct": "NULL"
                                },
                                {
                                    "Year": "2019",
                                    "Sales": "470532.50899999985",
                                    "PrevYearSales": "484247.4981000008",
                                    "GrowthPct": "-2.832227147029821"
                                },
                                {
                                    "Year": "2020",
                                    "Sales": "609205.5980000009",
                                    "PrevYearSales": "470532.50899999985",
                                    "GrowthPct": "29.471521382171094"
                                },
                                {
                                    "Year": "2021",
                                    "Sales": "733215.2552000007",
                                    "PrevYearSales": "609205.5980000009",
                                    "GrowthPct": "20.355961535336974"
                                }
                            ]
                        },
                        "text/html": [
                            "<table>",
                            "<tr><th>Year</th><th>Sales</th><th>PrevYearSales</th><th>GrowthPct</th></tr>",
                            "<tr><td>2018</td><td>484247.4981000008</td><td>NULL</td><td>NULL</td></tr>",
                            "<tr><td>2019</td><td>470532.50899999985</td><td>484247.4981000008</td><td>-2.832227147029821</td></tr>",
                            "<tr><td>2020</td><td>609205.5980000009</td><td>470532.50899999985</td><td>29.471521382171094</td></tr>",
                            "<tr><td>2021</td><td>733215.2552000007</td><td>609205.5980000009</td><td>20.355961535336974</td></tr>",
                            "</table>"
                        ]
                    }
                }
            ],
            "execution_count": 29
        },
        {
            "cell_type": "code",
            "source": [
                "--Profit growth YoY\r\n",
                "\r\n",
                "SELECT YEAR([Order Date]) AS Year, \r\n",
                "       SUM(Profit) AS Profit,\r\n",
                "       LAG(SUM(Profit)) OVER (ORDER BY YEAR([Order Date])) AS PrevYearProfit,\r\n",
                "       (SUM(Profit) - LAG(SUM(Profit)) OVER (ORDER BY YEAR([Order Date]))) * 100.0 \r\n",
                "       / LAG(SUM(Profit)) OVER (ORDER BY YEAR([Order Date])) AS GrowthPct\r\n",
                "FROM SuperStore.dbo.Store\r\n",
                "GROUP BY YEAR([Order Date])\r\n",
                "ORDER BY Year;"
            ],
            "metadata": {
                "azdata_cell_guid": "f1b584fc-2937-450c-8048-0fb2eb4c4443",
                "language": "sql"
            },
            "outputs": [
                {
                    "output_type": "display_data",
                    "data": {
                        "text/html": "(4 rows affected)"
                    },
                    "metadata": {}
                },
                {
                    "output_type": "display_data",
                    "data": {
                        "text/html": "Total execution time: 00:00:01.300"
                    },
                    "metadata": {}
                },
                {
                    "output_type": "execute_result",
                    "metadata": {},
                    "execution_count": 30,
                    "data": {
                        "application/vnd.dataresource+json": {
                            "schema": {
                                "fields": [
                                    {
                                        "name": "Year"
                                    },
                                    {
                                        "name": "Profit"
                                    },
                                    {
                                        "name": "PrevYearProfit"
                                    },
                                    {
                                        "name": "GrowthPct"
                                    }
                                ]
                            },
                            "data": [
                                {
                                    "Year": "2018",
                                    "Profit": "49543.97410000001",
                                    "PrevYearProfit": "NULL",
                                    "GrowthPct": "NULL"
                                },
                                {
                                    "Year": "2019",
                                    "Profit": "61618.60370000008",
                                    "PrevYearProfit": "49543.97410000001",
                                    "GrowthPct": "24.37154027173624"
                                },
                                {
                                    "Year": "2020",
                                    "Profit": "81795.17430000016",
                                    "PrevYearProfit": "61618.60370000008",
                                    "GrowthPct": "32.74428401239487"
                                },
                                {
                                    "Year": "2021",
                                    "Profit": "93439.26960000003",
                                    "PrevYearProfit": "81795.17430000016",
                                    "GrowthPct": "14.23567514789176"
                                }
                            ]
                        },
                        "text/html": [
                            "<table>",
                            "<tr><th>Year</th><th>Profit</th><th>PrevYearProfit</th><th>GrowthPct</th></tr>",
                            "<tr><td>2018</td><td>49543.97410000001</td><td>NULL</td><td>NULL</td></tr>",
                            "<tr><td>2019</td><td>61618.60370000008</td><td>49543.97410000001</td><td>24.37154027173624</td></tr>",
                            "<tr><td>2020</td><td>81795.17430000016</td><td>61618.60370000008</td><td>32.74428401239487</td></tr>",
                            "<tr><td>2021</td><td>93439.26960000003</td><td>81795.17430000016</td><td>14.23567514789176</td></tr>",
                            "</table>"
                        ]
                    }
                }
            ],
            "execution_count": 30
        },
        {
            "cell_type": "code",
            "source": [
                "--category vs Segment cross-tab\r\n",
                "\r\n",
                "SELECT Category, Segment, SUM(Sales) AS Sales\r\n",
                "FROM SuperStore.dbo.Store\r\n",
                "GROUP BY Category, Segment\r\n",
                "ORDER BY Category, Sales DESC;"
            ],
            "metadata": {
                "azdata_cell_guid": "c27c8a34-602f-4f99-b824-16b057140780",
                "language": "sql"
            },
            "outputs": [
                {
                    "output_type": "display_data",
                    "data": {
                        "text/html": "(9 rows affected)"
                    },
                    "metadata": {}
                },
                {
                    "output_type": "display_data",
                    "data": {
                        "text/html": "Total execution time: 00:00:00.253"
                    },
                    "metadata": {}
                },
                {
                    "output_type": "execute_result",
                    "metadata": {},
                    "execution_count": 31,
                    "data": {
                        "application/vnd.dataresource+json": {
                            "schema": {
                                "fields": [
                                    {
                                        "name": "Category"
                                    },
                                    {
                                        "name": "Segment"
                                    },
                                    {
                                        "name": "Sales"
                                    }
                                ]
                            },
                            "data": [
                                {
                                    "Category": "Furniture",
                                    "Segment": "Consumer",
                                    "Sales": "391049.31200000056"
                                },
                                {
                                    "Category": "Furniture",
                                    "Segment": "Corporate",
                                    "Sales": "229019.78580000025"
                                },
                                {
                                    "Category": "Furniture",
                                    "Segment": "Home Office",
                                    "Sales": "121930.69749999995"
                                },
                                {
                                    "Category": "Office Supplies",
                                    "Segment": "Consumer",
                                    "Sales": "363952.13600000064"
                                },
                                {
                                    "Category": "Office Supplies",
                                    "Segment": "Corporate",
                                    "Sales": "230676.46199999956"
                                },
                                {
                                    "Category": "Office Supplies",
                                    "Segment": "Home Office",
                                    "Sales": "124418.43399999986"
                                },
                                {
                                    "Category": "Technology",
                                    "Segment": "Consumer",
                                    "Sales": "406399.8969999997"
                                },
                                {
                                    "Category": "Technology",
                                    "Segment": "Corporate",
                                    "Sales": "246450.1189999999"
                                },
                                {
                                    "Category": "Technology",
                                    "Segment": "Home Office",
                                    "Sales": "183304.017"
                                }
                            ]
                        },
                        "text/html": [
                            "<table>",
                            "<tr><th>Category</th><th>Segment</th><th>Sales</th></tr>",
                            "<tr><td>Furniture</td><td>Consumer</td><td>391049.31200000056</td></tr>",
                            "<tr><td>Furniture</td><td>Corporate</td><td>229019.78580000025</td></tr>",
                            "<tr><td>Furniture</td><td>Home Office</td><td>121930.69749999995</td></tr>",
                            "<tr><td>Office Supplies</td><td>Consumer</td><td>363952.13600000064</td></tr>",
                            "<tr><td>Office Supplies</td><td>Corporate</td><td>230676.46199999956</td></tr>",
                            "<tr><td>Office Supplies</td><td>Home Office</td><td>124418.43399999986</td></tr>",
                            "<tr><td>Technology</td><td>Consumer</td><td>406399.8969999997</td></tr>",
                            "<tr><td>Technology</td><td>Corporate</td><td>246450.1189999999</td></tr>",
                            "<tr><td>Technology</td><td>Home Office</td><td>183304.017</td></tr>",
                            "</table>"
                        ]
                    }
                }
            ],
            "execution_count": 31
        },
        {
            "cell_type": "code",
            "source": [
                "--Average discount per category\r\n",
                "\r\n",
                "SELECT Category, AVG(Discount) AS AvgDiscount\r\n",
                "FROM SuperStore.dbo.Store\r\n",
                "GROUP BY Category;"
            ],
            "metadata": {
                "language": "sql",
                "azdata_cell_guid": "b1102387-4a77-4449-adfc-50205592d053"
            },
            "outputs": [
                {
                    "output_type": "display_data",
                    "data": {
                        "text/html": "(3 rows affected)"
                    },
                    "metadata": {}
                },
                {
                    "output_type": "display_data",
                    "data": {
                        "text/html": "Total execution time: 00:00:00.209"
                    },
                    "metadata": {}
                },
                {
                    "output_type": "execute_result",
                    "metadata": {},
                    "execution_count": 32,
                    "data": {
                        "application/vnd.dataresource+json": {
                            "schema": {
                                "fields": [
                                    {
                                        "name": "Category"
                                    },
                                    {
                                        "name": "AvgDiscount"
                                    }
                                ]
                            },
                            "data": [
                                {
                                    "Category": "Office Supplies",
                                    "AvgDiscount": "0.15728509790906708"
                                },
                                {
                                    "Category": "Furniture",
                                    "AvgDiscount": "0.17392267798208308"
                                },
                                {
                                    "Category": "Technology",
                                    "AvgDiscount": "0.13232268543584014"
                                }
                            ]
                        },
                        "text/html": [
                            "<table>",
                            "<tr><th>Category</th><th>AvgDiscount</th></tr>",
                            "<tr><td>Office Supplies</td><td>0.15728509790906708</td></tr>",
                            "<tr><td>Furniture</td><td>0.17392267798208308</td></tr>",
                            "<tr><td>Technology</td><td>0.13232268543584014</td></tr>",
                            "</table>"
                        ]
                    }
                }
            ],
            "execution_count": 32
        },
        {
            "cell_type": "code",
            "source": [
                "--Most frequently bought products\r\n",
                "\r\n",
                "SELECT TOP 10 [Product Name], COUNT([Order ID]) AS Frequency\r\n",
                "FROM SuperStore.dbo.Store\r\n",
                "GROUP BY [Product Name]\r\n",
                "ORDER BY Frequency DESC;"
            ],
            "metadata": {
                "language": "sql",
                "azdata_cell_guid": "079befcc-f0d2-4f30-8a4b-7a9a6a39d72e"
            },
            "outputs": [
                {
                    "output_type": "display_data",
                    "data": {
                        "text/html": "(10 rows affected)"
                    },
                    "metadata": {}
                },
                {
                    "output_type": "display_data",
                    "data": {
                        "text/html": "Total execution time: 00:00:01.556"
                    },
                    "metadata": {}
                },
                {
                    "output_type": "execute_result",
                    "metadata": {},
                    "execution_count": 33,
                    "data": {
                        "application/vnd.dataresource+json": {
                            "schema": {
                                "fields": [
                                    {
                                        "name": "Product Name"
                                    },
                                    {
                                        "name": "Frequency"
                                    }
                                ]
                            },
                            "data": [
                                {
                                    "Product Name": "Staple envelope",
                                    "Frequency": "48"
                                },
                                {
                                    "Product Name": "Easy-staple paper",
                                    "Frequency": "46"
                                },
                                {
                                    "Product Name": "Staples",
                                    "Frequency": "46"
                                },
                                {
                                    "Product Name": "Avery Non-Stick Binders",
                                    "Frequency": "20"
                                },
                                {
                                    "Product Name": "Staples in misc. colors",
                                    "Frequency": "19"
                                },
                                {
                                    "Product Name": "KI Adjustable-Height Table",
                                    "Frequency": "18"
                                },
                                {
                                    "Product Name": "Staple remover",
                                    "Frequency": "18"
                                },
                                {
                                    "Product Name": "Storex Dura Pro Binders",
                                    "Frequency": "17"
                                },
                                {
                                    "Product Name": "Staple-based wall hangings",
                                    "Frequency": "16"
                                },
                                {
                                    "Product Name": "Logitech 910-002974 M325 Wireless Mouse for Web Scrolling",
                                    "Frequency": "15"
                                }
                            ]
                        },
                        "text/html": [
                            "<table>",
                            "<tr><th>Product Name</th><th>Frequency</th></tr>",
                            "<tr><td>Staple envelope</td><td>48</td></tr>",
                            "<tr><td>Easy-staple paper</td><td>46</td></tr>",
                            "<tr><td>Staples</td><td>46</td></tr>",
                            "<tr><td>Avery Non-Stick Binders</td><td>20</td></tr>",
                            "<tr><td>Staples in misc. colors</td><td>19</td></tr>",
                            "<tr><td>KI Adjustable-Height Table</td><td>18</td></tr>",
                            "<tr><td>Staple remover</td><td>18</td></tr>",
                            "<tr><td>Storex Dura Pro Binders</td><td>17</td></tr>",
                            "<tr><td>Staple-based wall hangings</td><td>16</td></tr>",
                            "<tr><td>Logitech 910-002974 M325 Wireless Mouse for Web Scrolling</td><td>15</td></tr>",
                            "</table>"
                        ]
                    }
                }
            ],
            "execution_count": 33
        }
    ]
}